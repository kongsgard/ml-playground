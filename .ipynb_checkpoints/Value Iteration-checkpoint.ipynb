{
 "cells": [
  {
   "cell_type": "code",
   "execution_count": 137,
   "metadata": {},
   "outputs": [],
   "source": [
    "import matplotlib\n",
    "import matplotlib.pyplot as plt\n",
    "import numpy as np\n",
    "np.set_printoptions(precision=4, suppress=True)"
   ]
  },
  {
   "cell_type": "code",
   "execution_count": 196,
   "metadata": {},
   "outputs": [],
   "source": [
    "def add_gridticks(ax, x_max, y_max):\n",
    "    minor_xticks = np.arange(-0.5, x_max-0.5, 1)\n",
    "    ax.set_xticks(minor_xticks, minor=True)\n",
    "    minor_yticks = np.arange(-0.5, y_max-0.5, 1)\n",
    "    ax.set_yticks(minor_yticks, minor=True)\n",
    "    ax.grid(which='minor', color='k')\n",
    "\n",
    "    ax.set_xticks(np.arange(x_max))\n",
    "    ax.set_yticks(np.arange(y_max))\n",
    "    \n",
    "def plot_values(ax, values, obstacles, rewards):\n",
    "    indices = np.where(obstacles == 0)\n",
    "    ax.imshow(values, cmap='RdYlGn')\n",
    "    \n",
    "    values = values.T\n",
    "    obstacles = obstacles.T\n",
    "    rewards = rewards.T\n",
    "    for i in range(0, values.shape[0]):\n",
    "        for j in range(0, values.shape[1]):\n",
    "            if not (obstacles[i, j] or rewards[i, j]):\n",
    "                ax.annotate('{:.2f}'.format(values[i, j]), xy=(i, j), horizontalalignment='center', verticalalignment='center', fontsize=20)\n",
    "    \n",
    "def plot_obstacles(ax, obstacles):\n",
    "    cmap_white_black = matplotlib.colors.LinearSegmentedColormap.from_list('custom_white_black',['white','black'],256)\n",
    "    cmap_white_black._init()\n",
    "    alphas = np.linspace(0, 1, cmap_white_black.N+3)\n",
    "    cmap_white_black._lut[:,-1] = alphas\n",
    "    \n",
    "    ax.imshow(obstacles, cmap=cmap_white_black)\n",
    "    \n",
    "def plot_rewards(ax, rewards):\n",
    "    cmap_black_white = matplotlib.colors.LinearSegmentedColormap.from_list('custom_black_white',['black','white'],256)\n",
    "    cmap_black_white._init()\n",
    "    alphas = np.linspace(0, 1, cmap_black_white.N+3)\n",
    "    cmap_black_white._lut[:,-1] = alphas\n",
    "    \n",
    "    ax.imshow(np.abs(rewards), cmap=cmap_black_white)\n",
    "    \n",
    "    for i in range(0, rewards.shape[0]):\n",
    "        for j in range(0, rewards.shape[1]):\n",
    "\n",
    "            ax.annotate('{:.2f}'.format(rewards[i, j]), xy=(i, j), horizontalalignment='center', verticalalignment='center', fontsize=20)\n",
    "    \n",
    "    \n",
    "def plot_grid(x_max, y_max, obstacles, rewards, values):\n",
    "    fig, ax = plt.subplots(1, 1, figsize=(10,8))\n",
    "    ax.set_title(\"Value Iteration\")\n",
    "    add_gridticks(ax, x_max, y_max)\n",
    "    \n",
    "    plot_values(ax, values, obstacles, rewards)\n",
    "    plot_obstacles(ax, obstacles)\n",
    "    plot_rewards(ax, rewards)\n",
    "    \n",
    "    plt.show()"
   ]
  },
  {
   "cell_type": "code",
   "execution_count": 197,
   "metadata": {},
   "outputs": [
    {
     "name": "stdout",
     "output_type": "stream",
     "text": [
      "1.0\n",
      "-1.0\n"
     ]
    },
    {
     "data": {
      "image/png": "[encoded data removed]",
      "text/plain": [
       "<Figure size 720x576 with 1 Axes>"
      ]
     },
     "metadata": {
      "needs_background": "light"
     },
     "output_type": "display_data"
    }
   ],
   "source": [
    "x_max = 4\n",
    "y_max = 3\n",
    "\n",
    "obstacles = np.zeros([y_max, x_max])\n",
    "obstacles[1, 1] = 1\n",
    "\n",
    "rewards = np.zeros([y_max, x_max])\n",
    "rewards[0, 3] = 1\n",
    "rewards[1, 3] = -1\n",
    "\n",
    "values = np.random.rand(y_max, x_max)\n",
    "\n",
    "plot_grid(x_max, y_max, obstacles, rewards, values)"
   ]
  },
  {
   "cell_type": "code",
   "execution_count": null,
   "metadata": {},
   "outputs": [],
   "source": []
  }
 ],
 "metadata": {
  "kernelspec": {
   "display_name": "PyTorch-GPU",
   "language": "python",
   "name": "torch"
  },
  "language_info": {
   "codemirror_mode": {
    "name": "ipython",
    "version": 3
   },
   "file_extension": ".py",
   "mimetype": "text/x-python",
   "name": "python",
   "nbconvert_exporter": "python",
   "pygments_lexer": "ipython3",
   "version": "3.6.6"
  }
 },
 "nbformat": 4,
 "nbformat_minor": 2
}
